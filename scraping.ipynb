{
 "cells": [
  {
   "cell_type": "markdown",
   "metadata": {},
   "source": [
    "# *Web scraping* (datos de cotizaciones del IBEX35)"
   ]
  },
  {
   "cell_type": "code",
   "execution_count": 33,
   "metadata": {},
   "outputs": [],
   "source": [
    "import pandas as pd\n",
    "import altair as alt\n",
    "from bs4 import BeautifulSoup\n",
    "import requests"
   ]
  },
  {
   "cell_type": "markdown",
   "metadata": {},
   "source": [
    "## Información acerca del caso"
   ]
  },
  {
   "cell_type": "markdown",
   "metadata": {},
   "source": [
    "En este caso práctico se muestra el proceso de web scraping de una tabla de datos en una página web de un periodico. Como se trata de una página que se actualiza periódicamente con nueva información, pero que mantiene siempre la misma estructura, es posible ejecutar el proceso de web scraping cuando sea necesario para obtener datos actualizados. Por supuesto, como siempre sucede con el web scraping, en caso de que el sitio web, el periódico Expansión en este ejemplo, cambiara el formato de esa página, el proceso de web scraping dejaría de funcionar y sería necesario reprogramarlo para que se adaptara al nuevo formato."
   ]
  },
  {
   "cell_type": "markdown",
   "metadata": {},
   "source": [
    "## Descarga de la página"
   ]
  },
  {
   "cell_type": "markdown",
   "metadata": {},
   "source": [
    "En primer lugar descargamos la página web completa para poder tratar con ella. Para entender su estructura, lo más conveniente es utilizar la funcionalidad de inspeccionar el código de la página que ofrecen los navegadores, simplemente observar la estructura para descubrir la mejor forma de identificar el contenido que buscamos, para lo cual basta saber que:\n",
    "\n",
    "* Las páginas HTML están compuestas de \"elementos\"\n",
    "* Cada \"elemento\" tiene un tipo, unos atributos y un contenido, y está delimitado por unos \"tags\" (aunque muchas veces se usan indistintamente los términos elemento y tag)\n",
    "* El contenido de un elemento puede incluir otros elementos, y así sucesivamente\n",
    "* Los atributos que suelen ser más útiles para hacer scrapping son el atributo \"id\" (que sirve, simplemente, para identificar de manera unívoca un elemento) y el atributo \"class\" (que se utiliza para asignar estilos visuales al contenido del elemento, pero que muchas veces es útil al hacer scrapping porque identifica el tipo de tabla que nos interesa, o el título, o cosas así)\n",
    "* Un tipo de elemento que suele ser muy útil es el tipo \"div\", ya que es simplemente un contenedor genérico con el que los autores de páginas HTML organizan el contenido de las mismas."
   ]
  },
  {
   "cell_type": "code",
   "execution_count": 34,
   "metadata": {},
   "outputs": [],
   "source": [
    "# Accedemos a la página web utilizando la libraría \"requests\"\n",
    "URL = 'https://www.expansion.com/mercados/cotizaciones/indices/ibex35_I.IB.html'\n",
    "\n",
    "pagina = requests.get(URL)\n",
    "\n",
    "# Leemos el contenido de la página y se lo asignamos a un objeto \"soup\" de la librería BeautifulSoup, que es muy utilizada para estos fines\n",
    "# (El nombre \"BeautifulSoup\" tiene que ver con el hecho de que el contenido de las páginas está todo mezclado y desorganizao)\n",
    "\n",
    "soup = BeautifulSoup(pagina.content, 'html.parser')"
   ]
  },
  {
   "cell_type": "markdown",
   "metadata": {},
   "source": [
    "## Acceso al contenido y exploración"
   ]
  },
  {
   "cell_type": "markdown",
   "metadata": {},
   "source": [
    "La tarea más delicada del web scraping es seleccionar el contenido de interés de la manera más precisa. En el proceso de desarrollo de un proceso de web scraping es normal ir seleccionando datos, comprobando, etc., para tratar de entender correctamente la estructura de los mismos"
   ]
  },
  {
   "cell_type": "code",
   "execution_count": 35,
   "metadata": {},
   "outputs": [],
   "source": [
    "# Inspeccionando el código de la página web, vemos que los valores que nos interesan están en un elemento con\n",
    "# el atributo id igual a \"listado_valores\". BeautifulSoup nos permite seleccionar esta tabla para seguir procesándola\n",
    "tabla = soup.find(id = 'listado_valores')"
   ]
  },
  {
   "cell_type": "code",
   "execution_count": 36,
   "metadata": {},
   "outputs": [
    {
     "data": {
      "text/plain": [
       "'table'"
      ]
     },
     "execution_count": 36,
     "metadata": {},
     "output_type": "execute_result"
    }
   ],
   "source": [
    "# Una vez seleccionado el contenido de interés, aparte de ir descomponiéndolo a base de explorar el código HTML, también \n",
    "# es posible explorarlo directamente desde python. Por ejemplo...\n",
    "\n",
    "# Ver el tipo del elemento que hemos seleccionado (que en terminología de BeautifulSoup sería \"el nombre del tag\")\n",
    "tabla.name"
   ]
  },
  {
   "cell_type": "code",
   "execution_count": 37,
   "metadata": {},
   "outputs": [
    {
     "data": {
      "text/plain": [
       "{'id': 'listado_valores',\n",
       " 'cellpadding': '0',\n",
       " 'cellspacing': '0',\n",
       " 'border': '0',\n",
       " 'width': '100%'}"
      ]
     },
     "execution_count": 37,
     "metadata": {},
     "output_type": "execute_result"
    }
   ],
   "source": [
    "# Ver sus atributos\n",
    "tabla.attrs"
   ]
  },
  {
   "cell_type": "code",
   "execution_count": 38,
   "metadata": {},
   "outputs": [
    {
     "data": {
      "text/plain": [
       "['caption', 'thead', 'tbody']"
      ]
     },
     "execution_count": 38,
     "metadata": {},
     "output_type": "execute_result"
    }
   ],
   "source": [
    "# Ver el tipo de los elementos que contiene este elmento\n",
    "[el.name for el in tabla.findChildren(recursive=False)]"
   ]
  },
  {
   "cell_type": "code",
   "execution_count": 39,
   "metadata": {},
   "outputs": [
    {
     "data": {
      "text/plain": [
       "'\\nValores Ibex\\n'"
      ]
     },
     "execution_count": 39,
     "metadata": {},
     "output_type": "execute_result"
    }
   ],
   "source": [
    "# ver el contenido de unos de los elementos internos\n",
    "tabla.find('caption').text"
   ]
  },
  {
   "cell_type": "code",
   "execution_count": 40,
   "metadata": {},
   "outputs": [
    {
     "data": {
      "text/plain": [
       "['th', 'th', 'th', 'th', 'th', 'th', 'th', 'th', 'th', 'th', 'th']"
      ]
     },
     "execution_count": 40,
     "metadata": {},
     "output_type": "execute_result"
    }
   ],
   "source": [
    "# navegar los distintos niveles de la jerarquía de elementos\n",
    "[el.name for el in tabla.select_one('thead tr').findChildren(recursive=False)]"
   ]
  },
  {
   "cell_type": "code",
   "execution_count": 41,
   "metadata": {},
   "outputs": [
    {
     "name": "stdout",
     "output_type": "stream",
     "text": [
      "<caption>\n",
      " Valores Ibex\n",
      "</caption>\n",
      "\n"
     ]
    }
   ],
   "source": [
    "# Aunque las distintas opciones de selección de elementos de BeautifulSoup devuelven objetos de tipo Tag,\n",
    "# es posible ver el contenido de esos elementos en HTML. Para ello es útil la funcion 'prettify',\n",
    "# que formatea el código HTML para que sea más sencillo interpretarlo (aunque aún así muchas veces no es )\n",
    "print(tabla.find('caption').prettify())"
   ]
  },
  {
   "cell_type": "code",
   "execution_count": 42,
   "metadata": {},
   "outputs": [
    {
     "name": "stdout",
     "output_type": "stream",
     "text": [
      "<th>\n",
      " <a href=\"#\" onclick=\"ordenaPor('nombre'); cargaDatos();return false;\" title=\"\">\n",
      "  Valor\n",
      "  <img class=\"ordenar_por\" src=\"https://e00-expansion.uecdn.es/iconos/v2.x/v2.0/pico_down.png\"/>\n",
      " </a>\n",
      "</th>\n",
      "\n"
     ]
    }
   ],
   "source": [
    "print(tabla.find('thead').find('tr').find('th').prettify())"
   ]
  },
  {
   "cell_type": "code",
   "execution_count": 43,
   "metadata": {},
   "outputs": [
    {
     "data": {
      "text/html": [
       "<thead>\n",
       "<tr>\n",
       "<th>\n",
       "<a href=\"#\" onclick=\"ordenaPor('nombre'); cargaDatos();return false;\" title=\"\">Valor <img class=\"ordenar_por\" src=\"https://e00-expansion.uecdn.es/iconos/v2.x/v2.0/pico_down.png\"/></a>\n",
       "</th>\n",
       "<th>\n",
       "Último\n",
       "</th>\n",
       "<th>\n",
       "<a href=\"#\" onclick=\"ordenaPor('cambio_porcentual'); cargaDatos();return false;\" title=\"Variación en porcentaje\">Var. % <img class=\"ordenar_por\" src=\"https://e00-expansion.uecdn.es/iconos/v2.x/v2.0/pico_down.png\"/></a>\n",
       "</th>\n",
       "<th>\n",
       "Var.\n",
       "</th>\n",
       "<th>\n",
       "<a href=\"#\" onclick=\"ordenaPor('revalorizacion_anyo'); cargaDatos();return false;\" title=\"Variación acumulada anual\"><abbr title=\"Acumulado anual\">Ac. % año</abbr> <img class=\"ordenar_por\" src=\"https://e00-expansion.uecdn.es/iconos/v2.x/v2.0/pico_down.png\"/></a>\n",
       "</th>\n",
       "<th>\n",
       "<abbr title=\"Máximo\">\n",
       "Máx.\n",
       "</abbr>\n",
       "</th>\n",
       "<th>\n",
       "<abbr title=\"Mínimo\">\n",
       "Mín.\n",
       "</abbr>\n",
       "</th>\n",
       "<th>\n",
       "<a href=\"#\" onclick=\"ordenaPor('volumen'); cargaDatos();return false;\" title=\"Volumen\">Vol. <img class=\"ordenar_por\" src=\"https://e00-expansion.uecdn.es/iconos/v2.x/v2.0/pico_down.png\"/></a>\n",
       "</th>\n",
       "<th>\n",
       "<a href=\"#\" onclick=\"ordenaPor('capitalizacion'); cargaDatos();return false;\" title=\"Capitalización\"><abbr title=\"Capitalización\">Capit.</abbr> <img class=\"ordenar_por\" src=\"https://e00-expansion.uecdn.es/iconos/v2.x/v2.0/pico_down.png\"/></a>\n",
       "</th>\n",
       "<th>\n",
       "Hora\n",
       "</th>\n",
       "<th>\n",
       "</th>\n",
       "</tr>\n",
       "</thead>"
      ],
      "text/plain": [
       "<IPython.core.display.HTML object>"
      ]
     },
     "metadata": {},
     "output_type": "display_data"
    }
   ],
   "source": [
    "# Tambien es posible visualizar el contenido de los elementos como HTML renderizado dentro del mismo notebook\n",
    "# (aunque con ciertas limitaciones: los enlaces presentes en el código HTML no funcionarán si son relativos,\n",
    "# y las instrucciones de formato de la página generalmente se ignorarán)\n",
    "\n",
    "# Las funciones necesarias se encuetran en la librería IPython\n",
    "from IPython.display import display, HTML\n",
    "\n",
    "# Mostrar como HTML renderizado la cabecera de la tabla que hemos seleccionado\n",
    "display(HTML(str(tabla.find('thead'))))"
   ]
  },
  {
   "cell_type": "markdown",
   "metadata": {},
   "source": [
    "## Lectura de los datos"
   ]
  },
  {
   "cell_type": "markdown",
   "metadata": {},
   "source": [
    "Una vez se entiende la estructura de los datos en el código de la página web, simplemente hay que acceder a los campos que nos interesen y transformalos a un formato más utilzable"
   ]
  },
  {
   "cell_type": "code",
   "execution_count": 44,
   "metadata": {},
   "outputs": [
    {
     "name": "stdout",
     "output_type": "stream",
     "text": [
      "['Valor', 'Último', 'Var. %', 'Var.', 'Ac. % año', 'Máx.', 'Mín.', 'Vol.', 'Capit.', 'Hora', '']\n"
     ]
    }
   ],
   "source": [
    "# El elemento \"thead\" de la tabla contiene elmentos \"th\" que a su vez contienen los nombres de las columnas\n",
    "# de la tabla, que utilizaremos para nombrar a las distintas columnas de nuestro conjunto de datos.\n",
    "\n",
    "columnas = [th.text.strip() for th in tabla.find('thead').find_all('th')]\n",
    "print(columnas)"
   ]
  },
  {
   "cell_type": "code",
   "execution_count": 45,
   "metadata": {},
   "outputs": [
    {
     "name": "stdout",
     "output_type": "stream",
     "text": [
      "[]\n",
      "['ACCIONA ENER', '28,180', '8,30', '2,16', '-20,30', '28,360', '27,340', '216.094', '9.278', '12:51', '']\n",
      "['BBVA', '8,450', '0,28', '0,02', '60,74', '8,508', '8,378', '4.570.279', '50.408', '12:50', '']\n"
     ]
    }
   ],
   "source": [
    "# Los datos que queremos procesar están el elementos \"tr\" (por \"table row\") de la tabla, que \n",
    "# a su vez contienen elementos \"td\" (por \"table detail\"), que leemos en una lista de listas\n",
    "# Vemos también que la primera fila está vacía, y que el último campo de todas las filas tambien\n",
    "datos = [[td.text for td in tr.find_all('td')] for tr in tabla.find_all('tr')]\n",
    "print(datos[0])\n",
    "print(datos[2])\n",
    "print(datos[10])"
   ]
  },
  {
   "cell_type": "code",
   "execution_count": 46,
   "metadata": {},
   "outputs": [
    {
     "data": {
      "text/html": [
       "<div>\n",
       "<style scoped>\n",
       "    .dataframe tbody tr th:only-of-type {\n",
       "        vertical-align: middle;\n",
       "    }\n",
       "\n",
       "    .dataframe tbody tr th {\n",
       "        vertical-align: top;\n",
       "    }\n",
       "\n",
       "    .dataframe thead th {\n",
       "        text-align: right;\n",
       "    }\n",
       "</style>\n",
       "<table border=\"1\" class=\"dataframe\">\n",
       "  <thead>\n",
       "    <tr style=\"text-align: right;\">\n",
       "      <th></th>\n",
       "      <th>Valor</th>\n",
       "      <th>Último</th>\n",
       "      <th>Var. %</th>\n",
       "      <th>Var.</th>\n",
       "      <th>Ac. % año</th>\n",
       "      <th>Máx.</th>\n",
       "      <th>Mín.</th>\n",
       "      <th>Vol.</th>\n",
       "      <th>Capit.</th>\n",
       "      <th>Hora</th>\n",
       "    </tr>\n",
       "  </thead>\n",
       "  <tbody>\n",
       "    <tr>\n",
       "      <th>0</th>\n",
       "      <td>ACCIONA</td>\n",
       "      <td>137,000</td>\n",
       "      <td>4,94</td>\n",
       "      <td>6,45</td>\n",
       "      <td>-17,88</td>\n",
       "      <td>137,300</td>\n",
       "      <td>132,700</td>\n",
       "      <td>90.092</td>\n",
       "      <td>7.515</td>\n",
       "      <td>12:51</td>\n",
       "    </tr>\n",
       "    <tr>\n",
       "      <th>1</th>\n",
       "      <td>ACCIONA ENER</td>\n",
       "      <td>28,180</td>\n",
       "      <td>8,30</td>\n",
       "      <td>2,16</td>\n",
       "      <td>-20,30</td>\n",
       "      <td>28,360</td>\n",
       "      <td>27,340</td>\n",
       "      <td>216.094</td>\n",
       "      <td>9.278</td>\n",
       "      <td>12:51</td>\n",
       "    </tr>\n",
       "    <tr>\n",
       "      <th>2</th>\n",
       "      <td>ACERINOX</td>\n",
       "      <td>10,270</td>\n",
       "      <td>2,39</td>\n",
       "      <td>0,24</td>\n",
       "      <td>17,96</td>\n",
       "      <td>10,340</td>\n",
       "      <td>10,125</td>\n",
       "      <td>532.858</td>\n",
       "      <td>2.779</td>\n",
       "      <td>12:48</td>\n",
       "    </tr>\n",
       "    <tr>\n",
       "      <th>3</th>\n",
       "      <td>ACS</td>\n",
       "      <td>39,630</td>\n",
       "      <td>1,43</td>\n",
       "      <td>0,56</td>\n",
       "      <td>58,13</td>\n",
       "      <td>39,790</td>\n",
       "      <td>39,110</td>\n",
       "      <td>195.853</td>\n",
       "      <td>11.024</td>\n",
       "      <td>12:51</td>\n",
       "    </tr>\n",
       "    <tr>\n",
       "      <th>4</th>\n",
       "      <td>AENA</td>\n",
       "      <td>165,700</td>\n",
       "      <td>2,35</td>\n",
       "      <td>3,80</td>\n",
       "      <td>45,79</td>\n",
       "      <td>166,500</td>\n",
       "      <td>162,350</td>\n",
       "      <td>50.678</td>\n",
       "      <td>24.855</td>\n",
       "      <td>12:51</td>\n",
       "    </tr>\n",
       "  </tbody>\n",
       "</table>\n",
       "</div>"
      ],
      "text/plain": [
       "          Valor   Último Var. %  Var. Ac. % año     Máx.     Mín.     Vol.  \\\n",
       "0       ACCIONA  137,000   4,94  6,45    -17,88  137,300  132,700   90.092   \n",
       "1  ACCIONA ENER   28,180   8,30  2,16    -20,30   28,360   27,340  216.094   \n",
       "2      ACERINOX   10,270   2,39  0,24     17,96   10,340   10,125  532.858   \n",
       "3           ACS   39,630   1,43  0,56     58,13   39,790   39,110  195.853   \n",
       "4          AENA  165,700   2,35  3,80     45,79  166,500  162,350   50.678   \n",
       "\n",
       "   Capit.   Hora  \n",
       "0   7.515  12:51  \n",
       "1   9.278  12:51  \n",
       "2   2.779  12:48  \n",
       "3  11.024  12:51  \n",
       "4  24.855  12:51  "
      ]
     },
     "execution_count": 46,
     "metadata": {},
     "output_type": "execute_result"
    }
   ],
   "source": [
    "# Con los datos así leidos, generamos un DataFrame de Pandas (seleccionando solo las filas y columnas con datos)\n",
    "cotizaciones = pd.DataFrame([fila[0:-1] for fila in datos[1:]], columns=columnas[0:-1])\n",
    "cotizaciones.head()"
   ]
  },
  {
   "cell_type": "code",
   "execution_count": 47,
   "metadata": {},
   "outputs": [
    {
     "name": "stdout",
     "output_type": "stream",
     "text": [
      "<class 'pandas.core.frame.DataFrame'>\n",
      "RangeIndex: 35 entries, 0 to 34\n",
      "Data columns (total 10 columns):\n",
      " #   Column     Non-Null Count  Dtype \n",
      "---  ------     --------------  ----- \n",
      " 0   Valor      35 non-null     object\n",
      " 1   Último     35 non-null     object\n",
      " 2   Var. %     35 non-null     object\n",
      " 3   Var.       35 non-null     object\n",
      " 4   Ac. % año  35 non-null     object\n",
      " 5   Máx.       35 non-null     object\n",
      " 6   Mín.       35 non-null     object\n",
      " 7   Vol.       35 non-null     object\n",
      " 8   Capit.     35 non-null     object\n",
      " 9   Hora       35 non-null     object\n",
      "dtypes: object(10)\n",
      "memory usage: 2.9+ KB\n"
     ]
    }
   ],
   "source": [
    "# Comprobemos si todo ha ido bien...\n",
    "cotizaciones.info()"
   ]
  },
  {
   "cell_type": "code",
   "execution_count": 48,
   "metadata": {},
   "outputs": [
    {
     "name": "stdout",
     "output_type": "stream",
     "text": [
      "<class 'pandas.core.frame.DataFrame'>\n",
      "RangeIndex: 35 entries, 0 to 34\n",
      "Data columns (total 10 columns):\n",
      " #   Column     Non-Null Count  Dtype \n",
      "---  ------     --------------  ----- \n",
      " 0   Valor      35 non-null     object\n",
      " 1   Último     35 non-null     object\n",
      " 2   Var. %     35 non-null     object\n",
      " 3   Var.       35 non-null     object\n",
      " 4   Ac. % año  35 non-null     object\n",
      " 5   Máx.       35 non-null     object\n",
      " 6   Mín.       35 non-null     object\n",
      " 7   Vol.       35 non-null     object\n",
      " 8   Capit.     35 non-null     object\n",
      " 9   Hora       35 non-null     object\n",
      "dtypes: object(10)\n",
      "memory usage: 2.9+ KB\n"
     ]
    }
   ],
   "source": [
    "cotizaciones.info()"
   ]
  },
  {
   "cell_type": "code",
   "execution_count": 49,
   "metadata": {},
   "outputs": [],
   "source": [
    "# Todos los datos se han importado como cadenas de texto; para hacer el procesamiento de los datos más sencillo\n",
    "# conviene transformarlos a sus tipos reales\n",
    "\n",
    "for col in cotizaciones.columns[1:9].tolist() : \n",
    "    cotizaciones[col] = cotizaciones[col].str.replace('.', '').str.replace(',', '.').astype('float64')"
   ]
  },
  {
   "cell_type": "code",
   "execution_count": 50,
   "metadata": {},
   "outputs": [
    {
     "name": "stdout",
     "output_type": "stream",
     "text": [
      "<class 'pandas.core.frame.DataFrame'>\n",
      "RangeIndex: 35 entries, 0 to 34\n",
      "Data columns (total 10 columns):\n",
      " #   Column     Non-Null Count  Dtype  \n",
      "---  ------     --------------  -----  \n",
      " 0   Valor      35 non-null     object \n",
      " 1   Último     35 non-null     float64\n",
      " 2   Var. %     35 non-null     float64\n",
      " 3   Var.       35 non-null     float64\n",
      " 4   Ac. % año  35 non-null     float64\n",
      " 5   Máx.       35 non-null     float64\n",
      " 6   Mín.       35 non-null     float64\n",
      " 7   Vol.       35 non-null     float64\n",
      " 8   Capit.     35 non-null     float64\n",
      " 9   Hora       35 non-null     object \n",
      "dtypes: float64(8), object(2)\n",
      "memory usage: 2.9+ KB\n"
     ]
    }
   ],
   "source": [
    "# Volvemos a comprobar...\n",
    "cotizaciones.info()"
   ]
  },
  {
   "cell_type": "code",
   "execution_count": 53,
   "metadata": {},
   "outputs": [
    {
     "data": {
      "text/html": [
       "\n",
       "<div id=\"altair-viz-7580f34d507e43bcbfbad1fc84463382\"></div>\n",
       "<script type=\"text/javascript\">\n",
       "  var VEGA_DEBUG = (typeof VEGA_DEBUG == \"undefined\") ? {} : VEGA_DEBUG;\n",
       "  (function(spec, embedOpt){\n",
       "    let outputDiv = document.currentScript.previousElementSibling;\n",
       "    if (outputDiv.id !== \"altair-viz-7580f34d507e43bcbfbad1fc84463382\") {\n",
       "      outputDiv = document.getElementById(\"altair-viz-7580f34d507e43bcbfbad1fc84463382\");\n",
       "    }\n",
       "    const paths = {\n",
       "      \"vega\": \"https://cdn.jsdelivr.net/npm//vega@5?noext\",\n",
       "      \"vega-lib\": \"https://cdn.jsdelivr.net/npm//vega-lib?noext\",\n",
       "      \"vega-lite\": \"https://cdn.jsdelivr.net/npm//vega-lite@4.17.0?noext\",\n",
       "      \"vega-embed\": \"https://cdn.jsdelivr.net/npm//vega-embed@6?noext\",\n",
       "    };\n",
       "\n",
       "    function maybeLoadScript(lib, version) {\n",
       "      var key = `${lib.replace(\"-\", \"\")}_version`;\n",
       "      return (VEGA_DEBUG[key] == version) ?\n",
       "        Promise.resolve(paths[lib]) :\n",
       "        new Promise(function(resolve, reject) {\n",
       "          var s = document.createElement('script');\n",
       "          document.getElementsByTagName(\"head\")[0].appendChild(s);\n",
       "          s.async = true;\n",
       "          s.onload = () => {\n",
       "            VEGA_DEBUG[key] = version;\n",
       "            return resolve(paths[lib]);\n",
       "          };\n",
       "          s.onerror = () => reject(`Error loading script: ${paths[lib]}`);\n",
       "          s.src = paths[lib];\n",
       "        });\n",
       "    }\n",
       "\n",
       "    function showError(err) {\n",
       "      outputDiv.innerHTML = `<div class=\"error\" style=\"color:red;\">${err}</div>`;\n",
       "      throw err;\n",
       "    }\n",
       "\n",
       "    function displayChart(vegaEmbed) {\n",
       "      vegaEmbed(outputDiv, spec, embedOpt)\n",
       "        .catch(err => showError(`Javascript Error: ${err.message}<br>This usually means there's a typo in your chart specification. See the javascript console for the full traceback.`));\n",
       "    }\n",
       "\n",
       "    if(typeof define === \"function\" && define.amd) {\n",
       "      requirejs.config({paths});\n",
       "      require([\"vega-embed\"], displayChart, err => showError(`Error loading script: ${err.message}`));\n",
       "    } else {\n",
       "      maybeLoadScript(\"vega\", \"5\")\n",
       "        .then(() => maybeLoadScript(\"vega-lite\", \"4.17.0\"))\n",
       "        .then(() => maybeLoadScript(\"vega-embed\", \"6\"))\n",
       "        .catch(showError)\n",
       "        .then(() => displayChart(vegaEmbed));\n",
       "    }\n",
       "  })({\"config\": {\"view\": {\"continuousWidth\": 400, \"continuousHeight\": 300}}, \"data\": {\"values\": [{\"Valor\": \"ACCIONA\", \"Capitalizaci\\u00f3n\": 7515.0}, {\"Valor\": \"ACCIONA ENER\", \"Capitalizaci\\u00f3n\": 9278.0}, {\"Valor\": \"ACERINOX\", \"Capitalizaci\\u00f3n\": 2779.0}, {\"Valor\": \"ACS\", \"Capitalizaci\\u00f3n\": 11024.0}, {\"Valor\": \"AENA\", \"Capitalizaci\\u00f3n\": 24855.0}, {\"Valor\": \"AMADEUS IT GROUP\", \"Capitalizaci\\u00f3n\": 29517.0}, {\"Valor\": \"ARCELORMITTAL\", \"Capitalizaci\\u00f3n\": 21594.0}, {\"Valor\": \"BANCO SABADELL\", \"Capitalizaci\\u00f3n\": 6533.0}, {\"Valor\": \"BANKINTER\", \"Capitalizaci\\u00f3n\": 5276.0}, {\"Valor\": \"BBVA\", \"Capitalizaci\\u00f3n\": 50408.0}, {\"Valor\": \"CAIXABANK\", \"Capitalizaci\\u00f3n\": 30622.0}, {\"Valor\": \"CELLNEX TELECOM\", \"Capitalizaci\\u00f3n\": 24809.0}, {\"Valor\": \"COLONIAL\", \"Capitalizaci\\u00f3n\": 3572.0}, {\"Valor\": \"ENAGAS\", \"Capitalizaci\\u00f3n\": 4407.0}, {\"Valor\": \"ENDESA\", \"Capitalizaci\\u00f3n\": 20984.0}, {\"Valor\": \"FERROVIAL\", \"Capitalizaci\\u00f3n\": 24258.0}, {\"Valor\": \"FLUIDRA\", \"Capitalizaci\\u00f3n\": 3656.0}, {\"Valor\": \"GRIFOLS\", \"Capitalizaci\\u00f3n\": 6168.0}, {\"Valor\": \"IAG\", \"Capitalizaci\\u00f3n\": 9282.0}, {\"Valor\": \"IBERDROLA\", \"Capitalizaci\\u00f3n\": 76172.0}, {\"Valor\": \"INDITEX\", \"Capitalizaci\\u00f3n\": 120614.0}, {\"Valor\": \"INDRA\", \"Capitalizaci\\u00f3n\": 2454.0}, {\"Valor\": \"LOGISTA\", \"Capitalizaci\\u00f3n\": 3252.0}, {\"Valor\": \"MAPFRE\", \"Capitalizaci\\u00f3n\": 6048.0}, {\"Valor\": \"MELI\\u00c1 HOTELS\", \"Capitalizaci\\u00f3n\": 1378.0}, {\"Valor\": \"MERLIN PROP.\", \"Capitalizaci\\u00f3n\": 4665.0}, {\"Valor\": \"NATURGY\", \"Capitalizaci\\u00f3n\": 27246.0}, {\"Valor\": \"REDEIA\", \"Capitalizaci\\u00f3n\": 8371.0}, {\"Valor\": \"REPSOL\", \"Capitalizaci\\u00f3n\": 16416.0}, {\"Valor\": \"ROVI\", \"Capitalizaci\\u00f3n\": 3119.0}, {\"Valor\": \"SACYR\", \"Capitalizaci\\u00f3n\": 2141.0}, {\"Valor\": \"SANTANDER\", \"Capitalizaci\\u00f3n\": 62827.0}, {\"Valor\": \"SOLARIA\", \"Capitalizaci\\u00f3n\": 2249.0}, {\"Valor\": \"TELEF\\u00d3NICA\", \"Capitalizaci\\u00f3n\": 21449.0}, {\"Valor\": \"UNICAJA BANCO\", \"Capitalizaci\\u00f3n\": 2478.0}]}, \"mark\": \"bar\", \"encoding\": {\"x\": {\"field\": \"Valor\", \"sort\": \"-y\", \"title\": null, \"type\": \"nominal\"}, \"y\": {\"field\": \"Capitalizaci\\u00f3n\", \"title\": \"Capitalizaci\\u00f3n burs\\u00e1til (M\\u20ac)\", \"type\": \"quantitative\"}}, \"height\": 200, \"title\": \"Capitalizaci\\u00f3n de las empresas del IBEX35 a d\\u00eda de hoy\", \"width\": 450, \"$schema\": \"https://vega.github.io/schema/vega-lite/v4.17.0.json\"}, {\"mode\": \"vega-lite\"});\n",
       "</script>"
      ],
      "text/plain": [
       "alt.Chart(...)"
      ]
     },
     "execution_count": 53,
     "metadata": {},
     "output_type": "execute_result"
    }
   ],
   "source": [
    "# Los datos ya están listos para analizar, por ejemplo, haciendo alguna gráfica...\n",
    "import altair as alt\n",
    "data = cotizaciones[['Valor', 'Capit.']].rename(columns={'Capit.': 'Capitalización'})\n",
    "\n",
    "# Convertir el DataFrame a un formato de datos compatible con Altair\n",
    "data_dict = data.to_dict('records')\n",
    "\n",
    "alt.Chart(alt.Data(values=data_dict), width=450, height=200, title='Capitalización de las empresas del IBEX35 a día de hoy').mark_bar().encode(\n",
    "    x=alt.X('Valor:N', sort='-y', title=None),  # Especificar que 'Valor' es de tipo nominal (categórico)\n",
    "    y=alt.Y('Capitalización:Q', title='Capitalización bursátil (M€)')\n",
    ")\n"
   ]
  }
 ],
 "metadata": {
  "kernelspec": {
   "display_name": "Python 3.10.4 64-bit",
   "language": "python",
   "name": "python3"
  },
  "language_info": {
   "codemirror_mode": {
    "name": "ipython",
    "version": 3
   },
   "file_extension": ".py",
   "mimetype": "text/x-python",
   "name": "python",
   "nbconvert_exporter": "python",
   "pygments_lexer": "ipython3",
   "version": "3.10.4"
  },
  "vscode": {
   "interpreter": {
    "hash": "f6cee336df8821ab9e873af0a480211b43b9a699714518f733edaa9985b1315a"
   }
  }
 },
 "nbformat": 4,
 "nbformat_minor": 4
}
